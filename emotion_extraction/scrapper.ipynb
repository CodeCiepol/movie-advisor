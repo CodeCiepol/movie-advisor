{
 "cells": [
  {
   "cell_type": "code",
   "metadata": {
    "collapsed": true,
    "ExecuteTime": {
     "end_time": "2024-04-11T15:20:08.888953Z",
     "start_time": "2024-04-11T15:20:08.758336Z"
    }
   },
   "source": [
    "import requests\n",
    "from bs4 import BeautifulSoup\n"
   ],
   "outputs": [],
   "execution_count": 1
  },
  {
   "cell_type": "code",
   "source": [
    "URL = \"https://www.rottentomatoes.com/m/dune_part_two\"\n",
    "page = requests.get(URL)\n",
    "# print(page.text)\n",
    "soup = BeautifulSoup(page.content, \"html.parser\")"
   ],
   "metadata": {
    "collapsed": false,
    "ExecuteTime": {
     "end_time": "2024-04-11T15:21:26.629159Z",
     "start_time": "2024-04-11T15:21:26.154248Z"
    }
   },
   "outputs": [],
   "execution_count": 2
  },
  {
   "cell_type": "code",
   "source": [
    "whatToKnow_elements = soup.find(id=\"what-to-know\")\n",
    "description_elements=whatToKnow_elements.find_all(\"p\",class_=\"description\");\n",
    "print(description_elements[0].text)"
   ],
   "metadata": {
    "collapsed": false,
    "ExecuteTime": {
     "end_time": "2024-04-11T15:21:28.671224Z",
     "start_time": "2024-04-11T15:21:28.662298Z"
    }
   },
   "outputs": [
    {
     "name": "stdout",
     "output_type": "stream",
     "text": [
      "\n",
      "Visually thrilling and narratively epic, Dune: Part Two continues Denis Villeneuve's adaptation of the beloved sci-fi series in spectacular form.\n",
      "Read critic reviews\n",
      "\n"
     ]
    }
   ],
   "execution_count": 3
  },
  {
   "cell_type": "code",
   "source": [
    "URL_critics = \"https://www.rottentomatoes.com/m/dune_part_two/reviews?type=top_critics\"\n",
    "page_critics = requests.get(URL_critics)\n",
    "# print(page.text)\n",
    "soup_critics = BeautifulSoup(page_critics.content, \"html.parser\")\n"
   ],
   "metadata": {
    "collapsed": false,
    "ExecuteTime": {
     "end_time": "2024-04-11T15:21:37.166153Z",
     "start_time": "2024-04-11T15:21:36.513031Z"
    }
   },
   "outputs": [],
   "execution_count": 4
  },
  {
   "cell_type": "code",
   "source": [
    "reviews = soup_critics.find_all(\"p\", class_=\"review-text\")\n",
    "for review in reviews:\n",
    "    print(review.text)\n",
    "    print(\"\\n\")"
   ],
   "metadata": {
    "collapsed": false,
    "ExecuteTime": {
     "end_time": "2024-04-11T15:21:41.503412Z",
     "start_time": "2024-04-11T15:21:41.496183Z"
    }
   },
   "outputs": [
    {
     "name": "stdout",
     "output_type": "stream",
     "text": [
      "As a sequel, it works for the same reasons that make The Empire Strikes Back so many people’s favourite Star Wars film: there’s a darkness, a bleakness, that makes the fist-pumping moments feel all-the-more earned. \n",
      "\n",
      "\n",
      "As different from the first film as [Ridley Scott's] Alien is to [James Cameron's] Aliens. Same stuff, totally different genre! \n",
      "\n",
      "\n",
      "There is little character development and it’s not for the literal-minded -- or anyone who has, despite their best efforts, paid some attention. \n",
      "\n",
      "\n",
      "This was the best adaptation of a book that I've ever seen. \n",
      "\n",
      "\n",
      "An epic and spectacular sci-fi allegory with mass appeal.\n",
      "\n",
      "\n",
      "You know Villeneuve will get the spectacle right. The question is about the human drama… It almost all connected in Part Two.\n",
      "\n",
      "\n",
      "As in all of these sci-fi epics, there are plenty of scenes in which computer-generated characters drive computer-generated vehicles past computer-generated backdrops but, in \"Dune,\" it feels human, slightly messy and organic. \n",
      "\n",
      "\n",
      "What is really impressive about Part Two, is that despite how complex and like a miasma the plot becomes... the storytelling is so clear. \n",
      "\n",
      "\n",
      "Exceeds expectations in every way—except humanity.\n",
      "\n",
      "\n",
      "The film is all exhilarating buildup leading to an unsatisfactory, and even somewhat perfunctory, payoff.\n",
      "\n",
      "\n",
      "The second Dune instalment is jaw-on-the-floor spectacular. It elegantly weaves together top-tier special effects and arresting cinematography; it layers muscle, sinew and savagery on to the bones of Part One.\n",
      "\n",
      "\n",
      "Lawrence of Arrakis meets Dr. Sandworm, or, How I Learned to Stop Worrying and Love the Bene Gesserit...The result is a blockbuster space opera that plays like a downbeat drama — we’re a long, long way from that famous galaxy far, far away. \n",
      "\n",
      "\n",
      "As a feat of project management, Dune: Part Two is undeniable. But given how fundamentally bizarre the world of Dune is—or should be—critical consensus seems like an odd goal. Shouldn't it be weirder?\n",
      "\n",
      "\n",
      "One of the year’s most anticipated films is nice to look at, but is let down by bland acting and a script that does no great service to its impressive cast.\n",
      "\n",
      "\n",
      "Even as we marvel at the stunning and immersive and Oscar-level cinematography, editing, score, visual effects, production design and sound in Denis Villeneuve’s Part Two, we’re reminded at every turn that this is an absolutely crazy story...\n",
      "\n",
      "\n",
      "In an age of ever-increasing runtimes, it’s a rare achievement that the film’s 166-minute length feels earned.\n",
      "\n",
      "\n",
      "Instead of a theme park, it's more of a cathedral -- solemn, sober, beautiful and forbidding. Greig Fraser's photography and Hans Zimmer's score are full of majesty.\n",
      "\n",
      "\n",
      "I was a fan of first Dune in this series, although I logged similar complaints about its self-seriousness. This one is a little better; the action is just as thrilling but the characters are given more depth.\n",
      "\n",
      "\n",
      "Who knew it was possible to be so amazed and so bored at the same time?\n",
      "\n",
      "\n",
      "Ultimately, we end up with an abundance of craft and a forest of lore wrapped around personal narratives too flimsy to sustain marching feet. \n",
      "\n",
      "\n"
     ]
    }
   ],
   "execution_count": 5
  },
  {
   "cell_type": "code",
   "source": [
    "longest_review=\"\"\n",
    "for review in reviews:\n",
    "    if len(longest_review) < len(review.text):\n",
    "        longest_review = review.text\n"
   ],
   "metadata": {
    "collapsed": false,
    "ExecuteTime": {
     "end_time": "2024-04-11T15:21:50.420324Z",
     "start_time": "2024-04-11T15:21:50.416713Z"
    }
   },
   "outputs": [],
   "execution_count": 7
  },
  {
   "metadata": {
    "ExecuteTime": {
     "end_time": "2024-04-11T15:21:58.969721Z",
     "start_time": "2024-04-11T15:21:58.962512Z"
    }
   },
   "cell_type": "code",
   "source": "longest_review",
   "outputs": [
    {
     "data": {
      "text/plain": [
       "'Even as we marvel at the stunning and immersive and Oscar-level cinematography, editing, score, visual effects, production design and sound in Denis Villeneuve’s Part Two, we’re reminded at every turn that this is an absolutely crazy story...'"
      ]
     },
     "execution_count": 8,
     "metadata": {},
     "output_type": "execute_result"
    }
   ],
   "execution_count": 8
  },
  {
   "metadata": {},
   "cell_type": "code",
   "outputs": [],
   "execution_count": null,
   "source": ""
  }
 ],
 "metadata": {
  "kernelspec": {
   "display_name": "Python 3",
   "language": "python",
   "name": "python3"
  },
  "language_info": {
   "codemirror_mode": {
    "name": "ipython",
    "version": 2
   },
   "file_extension": ".py",
   "mimetype": "text/x-python",
   "name": "python",
   "nbconvert_exporter": "python",
   "pygments_lexer": "ipython2",
   "version": "2.7.6"
  }
 },
 "nbformat": 4,
 "nbformat_minor": 0
}
